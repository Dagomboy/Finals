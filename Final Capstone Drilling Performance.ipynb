{
 "cells": [
  {
   "cell_type": "markdown",
   "metadata": {},
   "source": []
  },
  {
   "cell_type": "code",
   "execution_count": 67,
   "metadata": {},
   "outputs": [
    {
     "data": {
      "text/html": [
       "<div>\n",
       "<style scoped>\n",
       "    .dataframe tbody tr th:only-of-type {\n",
       "        vertical-align: middle;\n",
       "    }\n",
       "\n",
       "    .dataframe tbody tr th {\n",
       "        vertical-align: top;\n",
       "    }\n",
       "\n",
       "    .dataframe thead th {\n",
       "        text-align: right;\n",
       "    }\n",
       "</style>\n",
       "<table border=\"1\" class=\"dataframe\">\n",
       "  <thead>\n",
       "    <tr style=\"text-align: right;\">\n",
       "      <th></th>\n",
       "      <th>Drilling_Depth_m</th>\n",
       "      <th>Drilling_Cost_USD</th>\n",
       "      <th>Drilling_Time_days</th>\n",
       "      <th>Rig_Power_HP</th>\n",
       "    </tr>\n",
       "  </thead>\n",
       "  <tbody>\n",
       "    <tr>\n",
       "      <th>0</th>\n",
       "      <td>2366</td>\n",
       "      <td>328537.03</td>\n",
       "      <td>25.8</td>\n",
       "      <td>936.6</td>\n",
       "    </tr>\n",
       "    <tr>\n",
       "      <th>1</th>\n",
       "      <td>2704</td>\n",
       "      <td>410001.24</td>\n",
       "      <td>27.9</td>\n",
       "      <td>1033.2</td>\n",
       "    </tr>\n",
       "    <tr>\n",
       "      <th>2</th>\n",
       "      <td>2688</td>\n",
       "      <td>359736.77</td>\n",
       "      <td>29.8</td>\n",
       "      <td>1091.4</td>\n",
       "    </tr>\n",
       "    <tr>\n",
       "      <th>3</th>\n",
       "      <td>2559</td>\n",
       "      <td>362942.01</td>\n",
       "      <td>29.3</td>\n",
       "      <td>974.2</td>\n",
       "    </tr>\n",
       "    <tr>\n",
       "      <th>4</th>\n",
       "      <td>2938</td>\n",
       "      <td>381460.17</td>\n",
       "      <td>30.9</td>\n",
       "      <td>1005.1</td>\n",
       "    </tr>\n",
       "  </tbody>\n",
       "</table>\n",
       "</div>"
      ],
      "text/plain": [
       "   Drilling_Depth_m  Drilling_Cost_USD  Drilling_Time_days  Rig_Power_HP\n",
       "0              2366          328537.03                25.8         936.6\n",
       "1              2704          410001.24                27.9        1033.2\n",
       "2              2688          359736.77                29.8        1091.4\n",
       "3              2559          362942.01                29.3         974.2\n",
       "4              2938          381460.17                30.9        1005.1"
      ]
     },
     "execution_count": 67,
     "metadata": {},
     "output_type": "execute_result"
    }
   ],
   "source": [
    "\n",
    "import numpy as np\n",
    "import pandas as pd\n",
    "\n",
    "np.random.seed(42057)\n",
    "n = 120\n",
    "\n",
    "depth = np.random.normal(loc=2500, scale=300, size=n).astype(int)\n",
    "cost = (depth * np.random.normal(loc=120, scale=10, size=n)) + np.random.normal(loc=50000, scale=10000, size=n)\n",
    "time = (depth / np.random.normal(loc=100, scale=5, size=n)) + np.random.normal(loc=2, scale=1, size=n)\n",
    "rig_power = np.random.normal(loc=1000, scale=100, size=n)\n",
    "\n",
    "cost = np.clip(cost, 100000, 500000)\n",
    "time = np.clip(time, 10, 60)\n",
    "rig_power = np.clip(rig_power, 800, 1200)\n",
    "\n",
    "df = pd.DataFrame({\n",
    "    \"Drilling_Depth_m\": depth,\n",
    "    \"Drilling_Cost_USD\": cost.round(2),\n",
    "    \"Drilling_Time_days\": time.round(1),\n",
    "    \"Rig_Power_HP\": rig_power.round(1)\n",
    "})\n",
    "\n",
    "df.to_csv(\"drilling_performance_dataset.csv\", index=False)\n",
    "df.head()"
   ]
  },
  {
   "cell_type": "code",
   "execution_count": 68,
   "metadata": {},
   "outputs": [
    {
     "name": "stdout",
     "output_type": "stream",
     "text": [
      "Drilling_Depth_m      0\n",
      "Drilling_Cost_USD     0\n",
      "Drilling_Time_days    0\n",
      "Rig_Power_HP          0\n",
      "dtype: int64\n",
      "Total data points: 120\n"
     ]
    }
   ],
   "source": [
    "\n",
    "print(df.isnull().sum())\n",
    "print(f\"Total data points: {len(df)}\")"
   ]
  },
  {
   "cell_type": "code",
   "execution_count": 69,
   "metadata": {},
   "outputs": [
    {
     "name": "stdout",
     "output_type": "stream",
     "text": [
      "2523.3083333333334 46130.211409995565 34.1 807.8 2515.5\n"
     ]
    }
   ],
   "source": [
    "\n",
    "mean_depth = np.mean(df[\"Drilling_Depth_m\"])\n",
    "std_cost = np.std(df[\"Drilling_Cost_USD\"])\n",
    "max_time = np.max(df[\"Drilling_Time_days\"])\n",
    "min_power = np.min(df[\"Rig_Power_HP\"])\n",
    "median_depth = np.median(df[\"Drilling_Depth_m\"])\n",
    "\n",
    "print(mean_depth, std_cost, max_time, min_power, median_depth)"
   ]
  },
  {
   "cell_type": "code",
   "execution_count": 70,
   "metadata": {},
   "outputs": [
    {
     "name": "stdout",
     "output_type": "stream",
     "text": [
      "Correlation: 0.80, p-value: 0.0000\n"
     ]
    }
   ],
   "source": [
    "# SciPy Correlation\n",
    "from scipy.stats import pearsonr\n",
    "\n",
    "corr, p_value = pearsonr(df[\"Drilling_Depth_m\"], df[\"Drilling_Cost_USD\"])\n",
    "print(f\"Correlation: {corr:.2f}, p-value: {p_value:.4f}\")"
   ]
  },
  {
   "cell_type": "code",
   "execution_count": 71,
   "metadata": {},
   "outputs": [
    {
     "name": "stdout",
     "output_type": "stream",
     "text": [
      "                            OLS Regression Results                            \n",
      "==============================================================================\n",
      "Dep. Variable:      Drilling_Cost_USD   R-squared:                       0.637\n",
      "Model:                            OLS   Adj. R-squared:                  0.633\n",
      "Method:                 Least Squares   F-statistic:                     206.7\n",
      "Date:                Thu, 22 May 2025   Prob (F-statistic):           1.06e-27\n",
      "Time:                        14:34:22   Log-Likelihood:                -1398.3\n",
      "No. Observations:                 120   AIC:                             2801.\n",
      "Df Residuals:                     118   BIC:                             2806.\n",
      "Df Model:                           1                                         \n",
      "Covariance Type:            nonrobust                                         \n",
      "====================================================================================\n",
      "                       coef    std err          t      P>|t|      [0.025      0.975]\n",
      "------------------------------------------------------------------------------------\n",
      "const             1.797e+04   2.33e+04      0.772      0.442   -2.81e+04    6.41e+04\n",
      "Drilling_Depth_m   131.8765      9.173     14.376      0.000     113.711     150.042\n",
      "==============================================================================\n",
      "Omnibus:                        0.237   Durbin-Watson:                   2.276\n",
      "Prob(Omnibus):                  0.888   Jarque-Bera (JB):                0.383\n",
      "Skew:                          -0.084   Prob(JB):                        0.826\n",
      "Kurtosis:                       2.780   Cond. No.                     2.31e+04\n",
      "==============================================================================\n",
      "\n",
      "Warnings:\n",
      "[1] Standard Errors assume that the covariance matrix of the errors is correctly specified.\n",
      "[2] The condition number is large, 2.31e+04. This might indicate that there are\n",
      "strong multicollinearity or other numerical problems.\n"
     ]
    }
   ],
   "source": [
    "# Statsmodels Regression\n",
    "import statsmodels.api as sm\n",
    "\n",
    "X = sm.add_constant(df[\"Drilling_Depth_m\"])\n",
    "y = df[\"Drilling_Cost_USD\"]\n",
    "\n",
    "model = sm.OLS(y, X).fit()\n",
    "print(model.summary())"
   ]
  },
  {
   "cell_type": "code",
   "execution_count": 76,
   "metadata": {},
   "outputs": [
    {
     "data": {
      "image/png": "[encoded data removed]",
      "text/plain": [
       "<Figure size 432x288 with 1 Axes>"
      ]
     },
     "metadata": {
      "needs_background": "light"
     },
     "output_type": "display_data"
    },
    {
     "data": {
      "image/png": "[encoded data removed]",
      "text/plain": [
       "<Figure size 432x288 with 1 Axes>"
      ]
     },
     "metadata": {
      "needs_background": "light"
     },
     "output_type": "display_data"
    }
   ],
   "source": [
    "# Visualization\n",
    "import matplotlib.pyplot as plt\n",
    "import seaborn as sns\n",
    "\n",
    "sns.scatterplot(x=\"Drilling_Depth_m\", y=\"Drilling_Cost_USD\", data=df)\n",
    "sns.regplot(x=\"Drilling_Depth_m\", y=\"Drilling_Cost_USD\", data=df, scatter=False, color=\"red\")\n",
    "plt.title(\"Cost vs. Depth with Regression Line\")\n",
    "plt.show()\n",
    "\n",
    "# Histogram of Time\n",
    "sns.distplot(df['Drilling_Time_days'], kde=True)\n",
    "plt.title(\"Distribution of Drilling Time\")\n",
    "plt.show()"
   ]
  },
  {
   "cell_type": "code",
   "execution_count": null,
   "metadata": {},
   "outputs": [],
   "source": []
  }
 ],
 "metadata": {
  "kernelspec": {
   "display_name": "Python 3",
   "language": "python",
   "name": "python3"
  },
  "language_info": {
   "codemirror_mode": {
    "name": "ipython",
    "version": 3
   },
   "file_extension": ".py",
   "mimetype": "text/x-python",
   "name": "python",
   "nbconvert_exporter": "python",
   "pygments_lexer": "ipython3",
   "version": "3.8.3"
  }
 },
 "nbformat": 4,
 "nbformat_minor": 2
}
